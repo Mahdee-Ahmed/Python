{
 "cells": [
  {
   "cell_type": "code",
   "execution_count": 1,
   "id": "4953c562-141e-4df5-a26b-2673cbd8f8f8",
   "metadata": {},
   "outputs": [],
   "source": [
    "import pandas as pd \n",
    "import numpy as np\n",
    "\n",
    "import matplotlib.pyplot as plt\n",
    "import seaborn as sns\n",
    "\n",
    "%matplotlib inline"
   ]
  },
  {
   "cell_type": "code",
   "execution_count": 291,
   "id": "d3a28d75-ebc6-4600-8994-4faa43264ce7",
   "metadata": {},
   "outputs": [],
   "source": [
    "df = pd.read_csv('/Users/mahdeeahmed/Python/Rough practice of python/pandas dataset/Control chart data.csv',header = 0, index_col=0)"
   ]
  },
  {
   "cell_type": "code",
   "execution_count": 292,
   "id": "96217bc7-d6a4-43be-9302-3125a2b62d58",
   "metadata": {},
   "outputs": [
    {
     "data": {
      "text/html": [
       "<div>\n",
       "<style scoped>\n",
       "    .dataframe tbody tr th:only-of-type {\n",
       "        vertical-align: middle;\n",
       "    }\n",
       "\n",
       "    .dataframe tbody tr th {\n",
       "        vertical-align: top;\n",
       "    }\n",
       "\n",
       "    .dataframe thead th {\n",
       "        text-align: right;\n",
       "    }\n",
       "</style>\n",
       "<table border=\"1\" class=\"dataframe\">\n",
       "  <thead>\n",
       "    <tr style=\"text-align: right;\">\n",
       "      <th></th>\n",
       "      <th>1</th>\n",
       "      <th>2</th>\n",
       "      <th>3</th>\n",
       "      <th>4</th>\n",
       "    </tr>\n",
       "  </thead>\n",
       "  <tbody>\n",
       "    <tr>\n",
       "      <th>1</th>\n",
       "      <td>12.11</td>\n",
       "      <td>12.15</td>\n",
       "      <td>12.09</td>\n",
       "      <td>12.09</td>\n",
       "    </tr>\n",
       "    <tr>\n",
       "      <th>2</th>\n",
       "      <td>12.10</td>\n",
       "      <td>12.12</td>\n",
       "      <td>12.09</td>\n",
       "      <td>12.14</td>\n",
       "    </tr>\n",
       "    <tr>\n",
       "      <th>3</th>\n",
       "      <td>12.11</td>\n",
       "      <td>12.10</td>\n",
       "      <td>12.11</td>\n",
       "      <td>12.13</td>\n",
       "    </tr>\n",
       "    <tr>\n",
       "      <th>4</th>\n",
       "      <td>12.08</td>\n",
       "      <td>12.11</td>\n",
       "      <td>12.15</td>\n",
       "      <td>12.12</td>\n",
       "    </tr>\n",
       "    <tr>\n",
       "      <th>5</th>\n",
       "      <td>12.10</td>\n",
       "      <td>12.12</td>\n",
       "      <td>12.11</td>\n",
       "      <td>12.12</td>\n",
       "    </tr>\n",
       "  </tbody>\n",
       "</table>\n",
       "</div>"
      ],
      "text/plain": [
       "       1      2      3      4\n",
       "1  12.11  12.15  12.09  12.09\n",
       "2  12.10  12.12  12.09  12.14\n",
       "3  12.11  12.10  12.11  12.13\n",
       "4  12.08  12.11  12.15  12.12\n",
       "5  12.10  12.12  12.11  12.12"
      ]
     },
     "execution_count": 292,
     "metadata": {},
     "output_type": "execute_result"
    }
   ],
   "source": [
    "df.head()"
   ]
  },
  {
   "cell_type": "code",
   "execution_count": 293,
   "id": "ad426db5-e7b2-4ec2-a766-17808c9947eb",
   "metadata": {},
   "outputs": [],
   "source": [
    "df['x_bar']= df.mean(axis=1)"
   ]
  },
  {
   "cell_type": "code",
   "execution_count": 294,
   "id": "28a87e8d-379c-47ec-b15b-1a119eeae76b",
   "metadata": {},
   "outputs": [
    {
     "data": {
      "text/html": [
       "<div>\n",
       "<style scoped>\n",
       "    .dataframe tbody tr th:only-of-type {\n",
       "        vertical-align: middle;\n",
       "    }\n",
       "\n",
       "    .dataframe tbody tr th {\n",
       "        vertical-align: top;\n",
       "    }\n",
       "\n",
       "    .dataframe thead th {\n",
       "        text-align: right;\n",
       "    }\n",
       "</style>\n",
       "<table border=\"1\" class=\"dataframe\">\n",
       "  <thead>\n",
       "    <tr style=\"text-align: right;\">\n",
       "      <th></th>\n",
       "      <th>1</th>\n",
       "      <th>2</th>\n",
       "      <th>3</th>\n",
       "      <th>4</th>\n",
       "      <th>x_bar</th>\n",
       "    </tr>\n",
       "  </thead>\n",
       "  <tbody>\n",
       "    <tr>\n",
       "      <th>1</th>\n",
       "      <td>12.11</td>\n",
       "      <td>12.15</td>\n",
       "      <td>12.09</td>\n",
       "      <td>12.09</td>\n",
       "      <td>12.1100</td>\n",
       "    </tr>\n",
       "    <tr>\n",
       "      <th>2</th>\n",
       "      <td>12.10</td>\n",
       "      <td>12.12</td>\n",
       "      <td>12.09</td>\n",
       "      <td>12.14</td>\n",
       "      <td>12.1125</td>\n",
       "    </tr>\n",
       "    <tr>\n",
       "      <th>3</th>\n",
       "      <td>12.11</td>\n",
       "      <td>12.10</td>\n",
       "      <td>12.11</td>\n",
       "      <td>12.13</td>\n",
       "      <td>12.1125</td>\n",
       "    </tr>\n",
       "    <tr>\n",
       "      <th>4</th>\n",
       "      <td>12.08</td>\n",
       "      <td>12.11</td>\n",
       "      <td>12.15</td>\n",
       "      <td>12.12</td>\n",
       "      <td>12.1150</td>\n",
       "    </tr>\n",
       "    <tr>\n",
       "      <th>5</th>\n",
       "      <td>12.10</td>\n",
       "      <td>12.12</td>\n",
       "      <td>12.11</td>\n",
       "      <td>12.12</td>\n",
       "      <td>12.1125</td>\n",
       "    </tr>\n",
       "  </tbody>\n",
       "</table>\n",
       "</div>"
      ],
      "text/plain": [
       "       1      2      3      4    x_bar\n",
       "1  12.11  12.15  12.09  12.09  12.1100\n",
       "2  12.10  12.12  12.09  12.14  12.1125\n",
       "3  12.11  12.10  12.11  12.13  12.1125\n",
       "4  12.08  12.11  12.15  12.12  12.1150\n",
       "5  12.10  12.12  12.11  12.12  12.1125"
      ]
     },
     "execution_count": 294,
     "metadata": {},
     "output_type": "execute_result"
    }
   ],
   "source": [
    "df"
   ]
  },
  {
   "cell_type": "code",
   "execution_count": 295,
   "id": "3a390441-ebf3-4cf9-a76d-434d597ae62f",
   "metadata": {},
   "outputs": [
    {
     "data": {
      "text/plain": [
       "12.1176"
      ]
     },
     "execution_count": 295,
     "metadata": {},
     "output_type": "execute_result"
    }
   ],
   "source": [
    "x_double_bar = x_bar.mean()\n",
    "x_double_bar"
   ]
  },
  {
   "cell_type": "code",
   "execution_count": 296,
   "id": "a3397d43-14ab-4da3-97c0-bc003f3d3643",
   "metadata": {},
   "outputs": [],
   "source": [
    "df['max_range'] = df.max(axis=1)\n",
    "df['min_range'] = df.min(axis= 1)\n",
    "df['range'] = df['max_range'] - df['min_range']\n",
    "r_bar = df['range'].mean()"
   ]
  },
  {
   "cell_type": "code",
   "execution_count": 297,
   "id": "ced6b420-462a-4777-b451-ca0b5ddcd568",
   "metadata": {},
   "outputs": [
    {
     "data": {
      "text/plain": [
       "0.04600000000000044"
      ]
     },
     "execution_count": 297,
     "metadata": {},
     "output_type": "execute_result"
    }
   ],
   "source": [
    "r_bar"
   ]
  },
  {
   "cell_type": "code",
   "execution_count": 298,
   "id": "d0744635-3a13-45b6-8da2-5df46757ab55",
   "metadata": {},
   "outputs": [
    {
     "data": {
      "text/html": [
       "<div>\n",
       "<style scoped>\n",
       "    .dataframe tbody tr th:only-of-type {\n",
       "        vertical-align: middle;\n",
       "    }\n",
       "\n",
       "    .dataframe tbody tr th {\n",
       "        vertical-align: top;\n",
       "    }\n",
       "\n",
       "    .dataframe thead th {\n",
       "        text-align: right;\n",
       "    }\n",
       "</style>\n",
       "<table border=\"1\" class=\"dataframe\">\n",
       "  <thead>\n",
       "    <tr style=\"text-align: right;\">\n",
       "      <th></th>\n",
       "      <th>1</th>\n",
       "      <th>2</th>\n",
       "      <th>3</th>\n",
       "      <th>4</th>\n",
       "      <th>x_bar</th>\n",
       "      <th>max_range</th>\n",
       "      <th>min_range</th>\n",
       "      <th>range</th>\n",
       "    </tr>\n",
       "  </thead>\n",
       "  <tbody>\n",
       "    <tr>\n",
       "      <th>1</th>\n",
       "      <td>12.11</td>\n",
       "      <td>12.15</td>\n",
       "      <td>12.09</td>\n",
       "      <td>12.09</td>\n",
       "      <td>12.1100</td>\n",
       "      <td>12.15</td>\n",
       "      <td>12.09</td>\n",
       "      <td>0.06</td>\n",
       "    </tr>\n",
       "    <tr>\n",
       "      <th>2</th>\n",
       "      <td>12.10</td>\n",
       "      <td>12.12</td>\n",
       "      <td>12.09</td>\n",
       "      <td>12.14</td>\n",
       "      <td>12.1125</td>\n",
       "      <td>12.14</td>\n",
       "      <td>12.09</td>\n",
       "      <td>0.05</td>\n",
       "    </tr>\n",
       "    <tr>\n",
       "      <th>3</th>\n",
       "      <td>12.11</td>\n",
       "      <td>12.10</td>\n",
       "      <td>12.11</td>\n",
       "      <td>12.13</td>\n",
       "      <td>12.1125</td>\n",
       "      <td>12.13</td>\n",
       "      <td>12.10</td>\n",
       "      <td>0.03</td>\n",
       "    </tr>\n",
       "    <tr>\n",
       "      <th>4</th>\n",
       "      <td>12.08</td>\n",
       "      <td>12.11</td>\n",
       "      <td>12.15</td>\n",
       "      <td>12.12</td>\n",
       "      <td>12.1150</td>\n",
       "      <td>12.15</td>\n",
       "      <td>12.08</td>\n",
       "      <td>0.07</td>\n",
       "    </tr>\n",
       "    <tr>\n",
       "      <th>5</th>\n",
       "      <td>12.10</td>\n",
       "      <td>12.12</td>\n",
       "      <td>12.11</td>\n",
       "      <td>12.12</td>\n",
       "      <td>12.1125</td>\n",
       "      <td>12.12</td>\n",
       "      <td>12.10</td>\n",
       "      <td>0.02</td>\n",
       "    </tr>\n",
       "  </tbody>\n",
       "</table>\n",
       "</div>"
      ],
      "text/plain": [
       "       1      2      3      4    x_bar  max_range  min_range  range\n",
       "1  12.11  12.15  12.09  12.09  12.1100      12.15      12.09   0.06\n",
       "2  12.10  12.12  12.09  12.14  12.1125      12.14      12.09   0.05\n",
       "3  12.11  12.10  12.11  12.13  12.1125      12.13      12.10   0.03\n",
       "4  12.08  12.11  12.15  12.12  12.1150      12.15      12.08   0.07\n",
       "5  12.10  12.12  12.11  12.12  12.1125      12.12      12.10   0.02"
      ]
     },
     "execution_count": 298,
     "metadata": {},
     "output_type": "execute_result"
    }
   ],
   "source": [
    "df"
   ]
  },
  {
   "cell_type": "markdown",
   "id": "6a14af8f-b1ad-4c5c-b6a6-f05e6c466699",
   "metadata": {},
   "source": [
    "# Range chart limit creation"
   ]
  },
  {
   "cell_type": "code",
   "execution_count": 299,
   "id": "69d2037c-17f7-469f-be07-03353aa1cdf6",
   "metadata": {},
   "outputs": [],
   "source": [
    "r_ucl = (2.28 * r_bar).round(3)\n",
    "r_lcl = 0 * r_bar"
   ]
  },
  {
   "cell_type": "code",
   "execution_count": 300,
   "id": "33165389-3d38-416c-bd5b-d2138356eb8e",
   "metadata": {},
   "outputs": [
    {
     "name": "stdout",
     "output_type": "stream",
     "text": [
      "Range bar UCL =  0.105\n",
      "Range bar LCL =  0.0\n"
     ]
    }
   ],
   "source": [
    "print('Range bar UCL = ',r_ucl)\n",
    "print('Range bar LCL = ',r_lcl)"
   ]
  },
  {
   "cell_type": "code",
   "execution_count": 301,
   "id": "e0e0669e-eeda-41eb-99e7-2996abe0e6f9",
   "metadata": {},
   "outputs": [
    {
     "data": {
      "image/png": "[encoded data removed]",
      "text/plain": [
       "<Figure size 640x480 with 1 Axes>"
      ]
     },
     "metadata": {},
     "output_type": "display_data"
    }
   ],
   "source": [
    "plt.axhline(y = r_lcl,linestyle = '--',label='UCL',color='b',alpha= .3)\n",
    "plt.axhline(y = r_ucl,linestyle = '--',label='LCL',color='b',alpha= .3)\n",
    "\n",
    "plt.plot(df['range'],marker = 'o',color = 'pink',alpha = .8)\n",
    "plt.legend(loc=10)\n",
    "plt.tight_layout()"
   ]
  },
  {
   "cell_type": "markdown",
   "id": "2dbcebee-e3ac-42f9-8a71-1ee199621d60",
   "metadata": {},
   "source": [
    "# Creating a X- bar chart "
   ]
  },
  {
   "cell_type": "code",
   "execution_count": 302,
   "id": "8fbc7417-3fbf-4e61-b716-6cbf1bb963bc",
   "metadata": {},
   "outputs": [],
   "source": [
    "x_bar_ucl = x_double_bar + .73*r_bar\n",
    "x_bar_lcl = x_double_bar - .73*r_bar"
   ]
  },
  {
   "cell_type": "code",
   "execution_count": 303,
   "id": "deadd420-8e9f-4386-85d4-626109ca1b71",
   "metadata": {},
   "outputs": [
    {
     "name": "stdout",
     "output_type": "stream",
     "text": [
      "X bar UCL =  12.15118\n",
      "X bar LCL =  12.084019999999999\n"
     ]
    }
   ],
   "source": [
    "print('X bar UCL = ',x_bar_ucl)\n",
    "print('X bar LCL = ',x_bar_lcl)"
   ]
  },
  {
   "cell_type": "code",
   "execution_count": 304,
   "id": "c403151e-76b3-4395-8e3b-ebac821b2af8",
   "metadata": {},
   "outputs": [
    {
     "data": {
      "text/plain": [
       "[<matplotlib.lines.Line2D at 0x2874a3710>]"
      ]
     },
     "execution_count": 304,
     "metadata": {},
     "output_type": "execute_result"
    },
    {
     "data": {
      "image/png": "[encoded data removed]",
      "text/plain": [
       "<Figure size 640x480 with 1 Axes>"
      ]
     },
     "metadata": {},
     "output_type": "display_data"
    }
   ],
   "source": [
    "plt.axhline(y=x_bar_ucl,linestyle = '--',label='UCL',color='b',alpha = .3)\n",
    "plt.axhline(y = x_bar_lcl,linestyle = '--',label='UCL',color='b',alpha = .3)\n",
    "\n",
    "\n",
    "plt.plot(df['x_bar'],marker = 'o')"
   ]
  },
  {
   "cell_type": "markdown",
   "id": "8111d765-dce3-4a88-b445-732c1b3059a3",
   "metadata": {},
   "source": [
    "# Showing the plots together to find out if the process is in control "
   ]
  },
  {
   "cell_type": "code",
   "execution_count": 323,
   "id": "4b9b5007-67ad-4aa6-bd7a-643f0377644c",
   "metadata": {},
   "outputs": [
    {
     "data": {
      "text/plain": [
       "Text(0, 0.5, 'Mean')"
      ]
     },
     "execution_count": 323,
     "metadata": {},
     "output_type": "execute_result"
    },
    {
     "data": {
      "image/png": "[encoded data removed]",
      "text/plain": [
       "<Figure size 1800x500 with 2 Axes>"
      ]
     },
     "metadata": {},
     "output_type": "display_data"
    }
   ],
   "source": [
    "fig,ax = plt.subplots(nrows=1,ncols=2, figsize = [18,5])\n",
    "\n",
    "ax[0].axhline(y=x_bar_ucl,linestyle = '--',label='UCL',color='g',alpha = .3)\n",
    "ax[0].axhline(y = x_bar_lcl,linestyle = '--',label='UCL',color='g',alpha = .3)\n",
    "ax[0].axhline(y = x_double_bar,linestyle = '--',label='UCL',color='pink',alpha = .7)\n",
    "\n",
    "ax[0].plot(df['x_bar'],marker = 'o',color = 'black')\n",
    "ax[0].legend(loc=1,fontsize= 7)\n",
    "ax[0].set_title('Mean Chart')\n",
    "ax[0].set_xlabel('Sample number')\n",
    "ax[0].set_ylabel('Mean')\n",
    "\n",
    "\n",
    "\n",
    "\n",
    "ax[1].axhline(y = r_lcl,linestyle = '--',label='UCL',color='g',alpha= .3)\n",
    "ax[1].axhline(y = r_ucl,linestyle = '--',label='LCL',color='g',alpha= .6)\n",
    "ax[1].axhline(y = r_bar,linestyle = '--',label='LCL',color='g',alpha= .6)\n",
    "\n",
    "ax[1].plot(df['range'],marker = 'o',color = 'black',alpha = .8)\n",
    "ax[1].legend(loc=1,fontsize= 7)\n",
    "ax[1].set_title('Range Chart')\n",
    "ax[1].set_xlabel('Sample number')\n",
    "ax[1].set_ylabel('Mean')\n"
   ]
  },
  {
   "cell_type": "markdown",
   "id": "22c23c9f-166a-4f17-9aca-9a2aa1485441",
   "metadata": {},
   "source": [
    "# Final conclusion "
   ]
  },
  {
   "cell_type": "markdown",
   "id": "692b86e6-b234-4034-af9a-11070f67418e",
   "metadata": {
    "jp-MarkdownHeadingCollapsed": true
   },
   "source": [
    "### 1. The process average (Mean chart) suggest a randomness\n",
    "### 2. The process dispersion (Range chart) also suggest a randomness.\n",
    "### In both cases, the variables are in statistical control unit suggesting there is no need for corrective actions!"
   ]
  },
  {
   "cell_type": "code",
   "execution_count": null,
   "id": "6ec8478f-d938-4083-80f8-3ab148c09f98",
   "metadata": {},
   "outputs": [],
   "source": []
  }
 ],
 "metadata": {
  "kernelspec": {
   "display_name": "Python 3 (ipykernel)",
   "language": "python",
   "name": "python3"
  },
  "language_info": {
   "codemirror_mode": {
    "name": "ipython",
    "version": 3
   },
   "file_extension": ".py",
   "mimetype": "text/x-python",
   "name": "python",
   "nbconvert_exporter": "python",
   "pygments_lexer": "ipython3",
   "version": "3.12.4"
  }
 },
 "nbformat": 4,
 "nbformat_minor": 5
}
